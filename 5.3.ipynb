{
 "cells": [
  {
   "cell_type": "code",
   "execution_count": 1,
   "metadata": {},
   "outputs": [],
   "source": [
    "import experiment_framework as ef\n",
    "import fast_model_improved as fmi\n",
    "from pyexpat import model\n",
    "import networkx as nx\n",
    "import numpy as np\n",
    "import matplotlib.pyplot as plt\n",
    "import copy"
   ]
  },
  {
   "cell_type": "code",
   "execution_count": null,
   "metadata": {},
   "outputs": [],
   "source": [
    "G = nx.erdos_renyi_graph(2000, 0.005, seed=42)\n",
    "model = ef.run_influence_cascade(G, num_influencers=50, steps=3, selection_method='random')\n",
    "\n",
    "# Evaluate the influence and deinfluence\n",
    "num_influenced = model.evaluate_influence()\n",
    "num_deinfluenced = model.evaluate_deinfluence()\n",
    "num_susceptible = model.evaluate_susceptible()\n",
    "\n",
    "# Create a deep copy of the model\n",
    "model_fixed_influencers = copy.deepcopy(model)\n",
    "\n",
    "# Evaluate the influence and deinfluence\n",
    "num_influenced = model_fixed_influencers.evaluate_influence()\n",
    "num_deinfluenced = model_fixed_influencers.evaluate_deinfluence()\n",
    "num_susceptible = model_fixed_influencers.evaluate_susceptible()\n",
    "\n",
    "print(f\"Number of influenced nodes: {num_influenced}\")\n",
    "print(f\"Number of deinfluenced nodes: {num_deinfluenced}\")\n",
    "print(f\"Number of susceptible nodes: {num_susceptible}\")\n",
    "print('influencer', model.selected_influencers)"
   ]
  },
  {
   "cell_type": "code",
   "execution_count": null,
   "metadata": {},
   "outputs": [],
   "source": [
    "# Run simulation for different values of k\n",
    "k_deinfluencers_ls = [1,2,3,4,5,6,7,8,9,10]  # Different values of k to test\n",
    "deinfluencers_list = ef.select_deinfluencers(k_deinfluencers_ls)\n",
    "results = ef.average_results(deinfluencers_list, model_fixed_influencers, num_runs=3, steps=3)\n",
    "\n",
    "# Plotting results\n",
    "fig, axs = plt.subplots(2, figsize=(10, 10))\n",
    "axs[0].set_title('Measured Influence against Deinfluencer selection methods')\n",
    "axs[1].set_title('Measured Deinfluence against Deinfluencer selection methods')\n",
    "\n",
    "# Create line plots\n",
    "methods = results[next(iter(results))].keys()  # Get all methods from the first key\n",
    "k_values = sorted(results.keys())  # Sort k values for plotting\n",
    "\n",
    "for method in methods:\n",
    "    influenced_nodes = [results[k][method][0] for k in k_values]\n",
    "    total_steps = [results[k][method][1] for k in k_values]\n",
    "\n",
    "    axs[0].plot(k_values, influenced_nodes, label=method, marker='o')\n",
    "    axs[1].plot(k_values, total_steps, label=method, marker='o')\n",
    "\n",
    "axs[0].legend()\n",
    "axs[0].set_xlabel('Number of Deinfluencers')\n",
    "axs[0].set_ylabel('Average Number of DeInfluenced Nodes')\n",
    "\n",
    "axs[1].legend()\n",
    "axs[1].set_xlabel('Number of Deinfluencers')\n",
    "axs[1].set_ylabel('Average Number of Influenced Nodes')\n",
    "\n",
    "plt.tight_layout()\n",
    "plt.show()\n"
   ]
  }
 ],
 "metadata": {
  "kernelspec": {
   "display_name": "Python 3",
   "language": "python",
   "name": "python3"
  },
  "language_info": {
   "codemirror_mode": {
    "name": "ipython",
    "version": 3
   },
   "file_extension": ".py",
   "mimetype": "text/x-python",
   "name": "python",
   "nbconvert_exporter": "python",
   "pygments_lexer": "ipython3",
   "version": "3.11.4"
  }
 },
 "nbformat": 4,
 "nbformat_minor": 2
}
