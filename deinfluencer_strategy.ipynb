{
 "cells": [
  {
   "cell_type": "code",
   "execution_count": 1,
   "metadata": {},
   "outputs": [],
   "source": [
    "import full_model\n",
    "import fast_model\n",
    "import numpy as np\n",
    "import matplotlib.pyplot as plt\n",
    "import networkx as nx\n",
    "from joblib import Parallel, delayed"
   ]
  },
  {
   "cell_type": "code",
   "execution_count": 2,
   "metadata": {},
   "outputs": [],
   "source": [
    "def generate_and_find_inf(num_nodes, steps, num_influencers=0):\n",
    "\n",
    "    G = nx.barabasi_albert_graph(num_nodes, 2)\n",
    "\n",
    "    model_inf = fast_model.InfluenceDeinfluenceModel(G)\n",
    "    model_inf.set_initial_states()\n",
    "    initial_influencers = model_inf.greedy_hill_climbing(num_influencers, steps)\n",
    "\n",
    "    #initial_influencers = model_inf.greedy_hill_climbing_new(num_influencers)\n",
    "    print(\"Optimized Initial Influencers:\", initial_influencers)\n",
    "\n",
    "    return model_inf, initial_influencers"
   ]
  },
  {
   "cell_type": "code",
   "execution_count": 3,
   "metadata": {},
   "outputs": [
    {
     "name": "stdout",
     "output_type": "stream",
     "text": [
      "Optimized Initial Influencers: {128, 38, 169, 138, 78, 111, 178, 85, 28, 127}\n"
     ]
    }
   ],
   "source": [
    "# Example usage\n",
    "num_nodes = 200\n",
    "inf_steps = 10\n",
    "num_influencers = 10\n",
    "\n",
    "results = generate_and_find_inf(num_nodes, inf_steps, num_influencers=num_influencers)\n",
    "\n",
    "(model_inf, optimized_influencers) = results\n",
    "\n",
    "#print(\"count influence\", model.evaluate_influence())"
   ]
  },
  {
   "cell_type": "code",
   "execution_count": 10,
   "metadata": {},
   "outputs": [
    {
     "name": "stdout",
     "output_type": "stream",
     "text": [
      "Optimized Influencers: {128, 38, 169, 138, 78, 111, 178, 85, 28, 127}\n"
     ]
    }
   ],
   "source": [
    "deinf_steps = 3\n",
    "deinf_num = 3\n",
    "\n",
    "model = full_model.InfluenceDeinfluenceModel(model_inf.graph)\n",
    "model.history = []\n",
    "model.selected_influencers = optimized_influencers\n",
    "print(\"Optimized Influencers:\", optimized_influencers)\n",
    "\n",
    "model.set_initial_states()\n",
    "deinfluencers = model.greedy_hill_climbing_deinf(deinf_num, 20)\n",
    "print(\"Optimized Deinfluencers:\", deinfluencers)\n",
    "model.reset_graph()\n",
    "model.set_influencers(optimized_influencers)\n",
    "model.set_deinfluencers(deinfluencers)\n",
    "model.run_cascade(deinf_steps)\n",
    "model.display_graphs_grid()\n",
    "\n",
    "# print(\"count deinfuence\",model.count_deinfluenced())"
   ]
  },
  {
   "cell_type": "code",
   "execution_count": 11,
   "metadata": {},
   "outputs": [
    {
     "name": "stdout",
     "output_type": "stream",
     "text": [
      "{128, 38, 169, 138, 78, 111, 178, 85, 28, 127}\n",
      "[111, 78, 178]\n"
     ]
    }
   ],
   "source": [
    "print(model.selected_influencers)\n",
    "print(model.select_deinfluencers_from_influencers(3))"
   ]
  },
  {
   "cell_type": "code",
   "execution_count": 16,
   "metadata": {},
   "outputs": [
    {
     "ename": "UnboundLocalError",
     "evalue": "cannot access local variable 'total_deinfluenced' where it is not associated with a value",
     "output_type": "error",
     "traceback": [
      "\u001b[0;31m---------------------------------------------------------------------------\u001b[0m",
      "\u001b[0;31mUnboundLocalError\u001b[0m                         Traceback (most recent call last)",
      "Cell \u001b[0;32mIn[16], line 87\u001b[0m\n\u001b[1;32m     72\u001b[0m steps \u001b[38;5;241m=\u001b[39m \u001b[38;5;241m3\u001b[39m  \u001b[38;5;66;03m# Number of steps to run the cascade\u001b[39;00m\n\u001b[1;32m     74\u001b[0m results_d \u001b[38;5;241m=\u001b[39m {\n\u001b[1;32m     75\u001b[0m     \u001b[38;5;124m'\u001b[39m\u001b[38;5;124mDegree\u001b[39m\u001b[38;5;124m'\u001b[39m: count_deinfluenced(model, optimized_influencers, degree_centrality_ranking, num_runs, steps),\n\u001b[1;32m     76\u001b[0m     \u001b[38;5;124m'\u001b[39m\u001b[38;5;124mCloseness\u001b[39m\u001b[38;5;124m'\u001b[39m: count_deinfluenced(model, optimized_influencers, closeness_centrality_ranking, num_runs, steps),\n\u001b[0;32m   (...)\u001b[0m\n\u001b[1;32m     83\u001b[0m     \u001b[38;5;124m'\u001b[39m\u001b[38;5;124mfrom_inf_ranked\u001b[39m\u001b[38;5;124m'\u001b[39m: count_deinfluenced(model, optimized_influencers, ranked_deinfleucers_from_influencers, num_runs, steps)\n\u001b[1;32m     84\u001b[0m }\n\u001b[1;32m     86\u001b[0m results_i \u001b[38;5;241m=\u001b[39m { \n\u001b[0;32m---> 87\u001b[0m     \u001b[38;5;124m'\u001b[39m\u001b[38;5;124mDegree\u001b[39m\u001b[38;5;124m'\u001b[39m: \u001b[43mcount_influenced\u001b[49m\u001b[43m(\u001b[49m\u001b[43mmodel\u001b[49m\u001b[43m,\u001b[49m\u001b[43m \u001b[49m\u001b[43moptimized_influencers\u001b[49m\u001b[43m,\u001b[49m\u001b[43m \u001b[49m\u001b[43mdegree_centrality_ranking\u001b[49m\u001b[43m,\u001b[49m\u001b[43m \u001b[49m\u001b[43mnum_runs\u001b[49m\u001b[43m,\u001b[49m\u001b[43m \u001b[49m\u001b[43msteps\u001b[49m\u001b[43m)\u001b[49m,\n\u001b[1;32m     88\u001b[0m     \u001b[38;5;124m'\u001b[39m\u001b[38;5;124mCloseness\u001b[39m\u001b[38;5;124m'\u001b[39m: count_influenced(model, optimized_influencers, closeness_centrality_ranking, num_runs, steps),\n\u001b[1;32m     89\u001b[0m     \u001b[38;5;124m'\u001b[39m\u001b[38;5;124mBetweenness\u001b[39m\u001b[38;5;124m'\u001b[39m: count_influenced(model, optimized_influencers, betweenness_centrality_ranking, num_runs, steps),\n\u001b[1;32m     90\u001b[0m     \u001b[38;5;124m'\u001b[39m\u001b[38;5;124mEigenvector\u001b[39m\u001b[38;5;124m'\u001b[39m: count_influenced(model, optimized_influencers, eigenvector_centrality_ranking, num_runs, steps),\n\u001b[1;32m     91\u001b[0m     \u001b[38;5;124m'\u001b[39m\u001b[38;5;124mPageRank\u001b[39m\u001b[38;5;124m'\u001b[39m: count_influenced(model, optimized_influencers, pagerank_centrality_ranking, num_runs, steps),\n\u001b[1;32m     92\u001b[0m     \u001b[38;5;124m'\u001b[39m\u001b[38;5;124mrandom\u001b[39m\u001b[38;5;124m'\u001b[39m: count_influenced(model, optimized_influencers, random_deinfluencers, num_runs, steps),\n\u001b[1;32m     93\u001b[0m     \u001b[38;5;124m'\u001b[39m\u001b[38;5;124mhill_climbing\u001b[39m\u001b[38;5;124m'\u001b[39m: count_influenced(model, optimized_influencers, optimized_deinfluencers, num_runs, steps),\n\u001b[1;32m     94\u001b[0m     \u001b[38;5;124m'\u001b[39m\u001b[38;5;124mfrom_influencers\u001b[39m\u001b[38;5;124m'\u001b[39m: count_influenced(model, optimized_influencers, deinfleucers_from_influencers, num_runs, steps),\n\u001b[1;32m     95\u001b[0m     \u001b[38;5;124m'\u001b[39m\u001b[38;5;124mfrom_inf_ranked\u001b[39m\u001b[38;5;124m'\u001b[39m: count_influenced(model, optimized_influencers, ranked_deinfleucers_from_influencers, num_runs, steps)\n\u001b[1;32m     96\u001b[0m }\n\u001b[1;32m    100\u001b[0m \u001b[38;5;66;03m# Print the results\u001b[39;00m\n\u001b[1;32m    101\u001b[0m \u001b[38;5;66;03m#for centrality, count in results.items():\u001b[39;00m\n\u001b[1;32m    102\u001b[0m     \u001b[38;5;66;03m#print(f\"{centrality}: {count:.2f} nodes deinfluenced on average\")\u001b[39;00m\n\u001b[1;32m    103\u001b[0m \n\u001b[1;32m    104\u001b[0m \u001b[38;5;66;03m# Plot the results\u001b[39;00m\n\u001b[1;32m    105\u001b[0m plt\u001b[38;5;241m.\u001b[39mfigure(figsize\u001b[38;5;241m=\u001b[39m(\u001b[38;5;241m12\u001b[39m, \u001b[38;5;241m6\u001b[39m))  \u001b[38;5;66;03m# Increase the figure size\u001b[39;00m\n",
      "Cell \u001b[0;32mIn[16], line 33\u001b[0m, in \u001b[0;36mcount_influenced\u001b[0;34m(model, inf, deinf, num_runs, steps)\u001b[0m\n\u001b[1;32m     30\u001b[0m influenced_count \u001b[38;5;241m=\u001b[39m model\u001b[38;5;241m.\u001b[39mevaluate_influence()\n\u001b[1;32m     31\u001b[0m \u001b[38;5;66;03m#print(deinfluenced_count)\u001b[39;00m\n\u001b[1;32m     32\u001b[0m \u001b[38;5;66;03m#print(f\"Run {run+1}/{num_runs}: {deinfluenced_count} nodes deinfluenced\")\u001b[39;00m\n\u001b[0;32m---> 33\u001b[0m \u001b[43mtotal_deinfluenced\u001b[49m \u001b[38;5;241m+\u001b[39m\u001b[38;5;241m=\u001b[39m influenced_count\n\u001b[1;32m     34\u001b[0m \u001b[38;5;66;03m#print(f\"Total deinfluenced nodes: {total_deinfluenced}\")\u001b[39;00m\n\u001b[1;32m     35\u001b[0m model\u001b[38;5;241m.\u001b[39mreset_graph()\n",
      "\u001b[0;31mUnboundLocalError\u001b[0m: cannot access local variable 'total_deinfluenced' where it is not associated with a value"
     ]
    }
   ],
   "source": [
    "# Function to run the cascade and count deinfluenced nodes\n",
    "def count_deinfluenced(model, inf, deinf, num_runs, steps):\n",
    "    total_deinfluenced = 0\n",
    "    for run in range(num_runs):\n",
    "        model.reset_graph()\n",
    "        model.set_influencers(inf)\n",
    "        model.set_deinfluencers(deinf)\n",
    "        model.run_cascade(steps)\n",
    "        #print(model.history)\n",
    "        deinfluenced_count = model.count_deinfluenced()\n",
    "        #print(deinfluenced_count)\n",
    "        #print(f\"Run {run+1}/{num_runs}: {deinfluenced_count} nodes deinfluenced\")\n",
    "        total_deinfluenced += deinfluenced_count\n",
    "        #print(f\"Total deinfluenced nodes: {total_deinfluenced}\")\n",
    "        model.reset_graph()\n",
    "        \n",
    "    average_deinfluenced = total_deinfluenced / num_runs\n",
    "    #print(f\"Average deinfluenced nodes: {average_deinfluenced}\")\n",
    "\n",
    "    return average_deinfluenced\n",
    "\n",
    "def count_influenced(model, inf, deinf, num_runs, steps):\n",
    "    total_influenced = 0\n",
    "    for run in range(num_runs):\n",
    "        model.reset_graph()\n",
    "        model.set_influencers(inf)\n",
    "        model.set_deinfluencers(deinf)\n",
    "        model.run_cascade(steps)\n",
    "        #print(model.history)\n",
    "        influenced_count = model.evaluate_influence()\n",
    "        #print(deinfluenced_count)\n",
    "        #print(f\"Run {run+1}/{num_runs}: {deinfluenced_count} nodes deinfluenced\")\n",
    "        total_influenced += influenced_count\n",
    "        #print(f\"Total deinfluenced nodes: {total_deinfluenced}\")\n",
    "        model.reset_graph()\n",
    "        \n",
    "    average_influenced = total_influenced / num_runs\n",
    "    #print(f\"Average deinfluenced nodes: {average_deinfluenced}\")\n",
    "\n",
    "    return average_influenced\n",
    "\n",
    "# Initialize the model\n",
    "model.reset_graph()\n",
    "\n",
    "# Rank nodes using different centrality measures\n",
    "k_deinfluencers = 6\n",
    "\n",
    "degree_centrality_ranking = model.select_deinfluencers_degree_centrality(k_deinfluencers)\n",
    "closeness_centrality_ranking = model.select_deinfluencers_closeness_centrality(k_deinfluencers)\n",
    "betweenness_centrality_ranking = model.select_deinfluencers_betweenness_centrality(k_deinfluencers)\n",
    "eigenvector_centrality_ranking = model.select_deinfluencers_eigenvector_centrality(k_deinfluencers, max_iter=1000, tol=1e-06)\n",
    "pagerank_centrality_ranking = model.select_deinfluencers_pagerank_centrality(k_deinfluencers)\n",
    "random_deinfluencers = model.select_deinfluencers_random(k_deinfluencers)\n",
    "optimized_deinfluencers = model.greedy_hill_climbing_deinf(k_deinfluencers, 5, 10)\n",
    "deinfleucers_from_influencers = model.select_deinfluencers_from_influencers(j=k_deinfluencers)\n",
    "ranked_deinfleucers_from_influencers = model.select_deinfluencers_from_influencers_degree_centrality(k_deinfluencers)\n",
    "\n",
    "\n",
    "# print(\"Optimized Deinfluencers:\", optimized_deinfluencers)\n",
    "# print(\"Deinfluencers from Influencers:\", deinfleucers_from_influencers)\n",
    "\n",
    "# print(\"Degree Centrality Ranking:\", degree_centrality_ranking)\n",
    "# print(\"Closeness Centrality Ranking:\", closeness_centrality_ranking)\n",
    "# print(\"Betweenness Centrality Ranking:\", betweenness_centrality_ranking)\n",
    "# print(\"Eigenvector Centrality Ranking:\", eigenvector_centrality_ranking)\n",
    "# print(\"PageRank Centrality Ranking:\", pagerank_centrality_ranking)\n",
    "# print(\"Random Deinfluencers:\", random_deinfluencers)\n",
    "\n",
    "\n",
    "# Run cascades and count deinfluenced nodes for each centrality measure\n",
    "num_runs = 10  # Number of times to run the cascade for averaging\n",
    "steps = 3  # Number of steps to run the cascade\n",
    "\n",
    "results_d = {\n",
    "    'Degree': count_deinfluenced(model, optimized_influencers, degree_centrality_ranking, num_runs, steps),\n",
    "    'Closeness': count_deinfluenced(model, optimized_influencers, closeness_centrality_ranking, num_runs, steps),\n",
    "    'Betweenness': count_deinfluenced(model, optimized_influencers, betweenness_centrality_ranking, num_runs, steps),\n",
    "    'Eigenvector': count_deinfluenced(model, optimized_influencers, eigenvector_centrality_ranking, num_runs, steps),\n",
    "    'PageRank': count_deinfluenced(model, optimized_influencers, pagerank_centrality_ranking, num_runs, steps),\n",
    "    'random': count_deinfluenced(model, optimized_influencers, random_deinfluencers, num_runs, steps),\n",
    "    'hill_climbing': count_deinfluenced(model, optimized_influencers, optimized_deinfluencers, num_runs, steps),\n",
    "    'from_influencers': count_deinfluenced(model, optimized_influencers, deinfleucers_from_influencers, num_runs, steps),\n",
    "    'from_inf_ranked': count_deinfluenced(model, optimized_influencers, ranked_deinfleucers_from_influencers, num_runs, steps)\n",
    "}\n",
    "\n",
    "results_i = { \n",
    "    'Degree': count_influenced(model, optimized_influencers, degree_centrality_ranking, num_runs, steps),\n",
    "    'Closeness': count_influenced(model, optimized_influencers, closeness_centrality_ranking, num_runs, steps),\n",
    "    'Betweenness': count_influenced(model, optimized_influencers, betweenness_centrality_ranking, num_runs, steps),\n",
    "    'Eigenvector': count_influenced(model, optimized_influencers, eigenvector_centrality_ranking, num_runs, steps),\n",
    "    'PageRank': count_influenced(model, optimized_influencers, pagerank_centrality_ranking, num_runs, steps),\n",
    "    'random': count_influenced(model, optimized_influencers, random_deinfluencers, num_runs, steps),\n",
    "    'hill_climbing': count_influenced(model, optimized_influencers, optimized_deinfluencers, num_runs, steps),\n",
    "    'from_influencers': count_influenced(model, optimized_influencers, deinfleucers_from_influencers, num_runs, steps),\n",
    "    'from_inf_ranked': count_influenced(model, optimized_influencers, ranked_deinfleucers_from_influencers, num_runs, steps)\n",
    "}\n",
    "\n",
    "\n",
    "\n",
    "# Print the results\n",
    "#for centrality, count in results.items():\n",
    "    #print(f\"{centrality}: {count:.2f} nodes deinfluenced on average\")\n",
    "\n",
    "# Plot the results\n",
    "plt.figure(figsize=(12, 6))  # Increase the figure size\n",
    "plt.bar(results_d.keys(), results_d.values(), color=['red', 'blue', 'green', 'purple', 'orange'])\n",
    "plt.xlabel('Centrality Measure')\n",
    "plt.ylabel('Average Number of Deinfluenced Nodes')\n",
    "plt.title('Comparison of Average Final Deinfluenced Nodes by Centrality Measure')\n",
    "plt.show()\n",
    "\n",
    "plt.figure(figsize=(12, 6))  # Increase the figure size\n",
    "plt.bar(results_i.keys(), results_i.values(), color=['red', 'blue', 'green', 'purple', 'orange'])\n",
    "plt.xlabel('Centrality Measure')\n",
    "plt.ylabel('Average Number of Influenced Nodes')\n",
    "plt.title('Comparison of Average Final Influenced Nodes by Centrality Measure')\n",
    "plt.show()\n"
   ]
  },
  {
   "cell_type": "code",
   "execution_count": 7,
   "metadata": {},
   "outputs": [],
   "source": [
    "\n",
    "# # Initialize an empty dictionary to store the aggregated results\n",
    "# aggregated_results = []\n",
    "\n",
    "# # Run the simulation k times\n",
    "# for i in range(10):\n",
    "#     # Reset the graph and set the influencers\n",
    "#     model.reset_graph()\n",
    "#     model.set_influencers(optimized_influencers)\n",
    "    \n",
    "#     # Run the cascade and count deinfluenced nodes\n",
    "#     result = count_deinfluenced(model, optimized_influencers, degree_centrality_ranking, num_runs, steps)\n",
    "    \n",
    "#     # Store the result in the aggregated_results dictionary\n",
    "#     aggregated_results.append(result)\n",
    "\n",
    "# print(\"Aggregated Results:\", aggregated_results)\n",
    "\n",
    "# # Plot the aggregated results\n",
    "\n",
    "# plt.figure(figsize=(10, 6))  # Increase the figure size\n",
    "# for i, result in enumerate(aggregated_results):\n",
    "#     plt.bar(i, result, color='blue', alpha=0.5)\n",
    "# plt.xlabel('Simulation')\n",
    "# plt.ylabel('Average Number of Deinfluenced Nodes')\n",
    "# plt.title('Aggregated Results of Multiple Simulations')\n",
    "# plt.show()"
   ]
  }
 ],
 "metadata": {
  "kernelspec": {
   "display_name": "Python 3",
   "language": "python",
   "name": "python3"
  },
  "language_info": {
   "codemirror_mode": {
    "name": "ipython",
    "version": 3
   },
   "file_extension": ".py",
   "mimetype": "text/x-python",
   "name": "python",
   "nbconvert_exporter": "python",
   "pygments_lexer": "ipython3",
   "version": "3.11.4"
  }
 },
 "nbformat": 4,
 "nbformat_minor": 2
}
