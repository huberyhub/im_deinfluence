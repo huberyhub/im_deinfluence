{
 "cells": [
  {
   "cell_type": "code",
   "execution_count": 1,
   "metadata": {},
   "outputs": [],
   "source": [
    "import experiment_framework as ef\n",
    "import fast_model_improved as fmi\n",
    "from pyexpat import model\n",
    "import networkx as nx\n",
    "import numpy as np\n",
    "import matplotlib.pyplot as plt\n",
    "import copy"
   ]
  },
  {
   "cell_type": "code",
   "execution_count": 2,
   "metadata": {},
   "outputs": [
    {
     "name": "stdout",
     "output_type": "stream",
     "text": [
      "Number of influenced nodes: 2983\n",
      "Number of deinfluenced nodes: 0\n",
      "Number of susceptible nodes: 17\n",
      "influencer {1272, 897, 641, 1157, 1030, 1927, 1545, 1033, 1165, 1933, 1677, 145, 1657, 1046, 2457, 2843, 285, 545, 546, 2468, 1661, 1192, 1962, 2358, 1593, 697, 2877, 2368, 960, 1600, 1732, 1348, 72, 2894, 2002, 2643, 1235, 2262, 1632, 2528, 1122, 2403, 2667, 1647, 1520, 755, 376, 2553, 2300, 893}\n"
     ]
    }
   ],
   "source": [
    "G = nx.erdos_renyi_graph(3000, 0.005)\n",
    "model = ef.run_influence_cascade(G, num_influencers=50, steps=3, selection_method='random')\n",
    "\n",
    "# Evaluate the influence and deinfluence\n",
    "num_influenced = model.evaluate_influence()\n",
    "num_deinfluenced = model.evaluate_deinfluence()\n",
    "num_susceptible = model.evaluate_susceptible()\n",
    "\n",
    "# Create a deep copy of the model\n",
    "model_fixed_influencers = copy.deepcopy(model)\n",
    "\n",
    "# Evaluate the influence and deinfluence\n",
    "num_influenced = model_fixed_influencers.evaluate_influence()\n",
    "num_deinfluenced = model_fixed_influencers.evaluate_deinfluence()\n",
    "num_susceptible = model_fixed_influencers.evaluate_susceptible()\n",
    "\n",
    "print(f\"Number of influenced nodes: {num_influenced}\")\n",
    "print(f\"Number of deinfluenced nodes: {num_deinfluenced}\")\n",
    "print(f\"Number of susceptible nodes: {num_susceptible}\")\n",
    "print('influencer', model.selected_influencers)"
   ]
  },
  {
   "cell_type": "code",
   "execution_count": 3,
   "metadata": {},
   "outputs": [
    {
     "ename": "ValueError",
     "evalue": "Sample larger than population or is negative",
     "output_type": "error",
     "traceback": [
      "\u001b[0;31m---------------------------------------------------------------------------\u001b[0m",
      "\u001b[0;31mValueError\u001b[0m                                Traceback (most recent call last)",
      "Cell \u001b[0;32mIn[3], line 3\u001b[0m\n\u001b[1;32m      1\u001b[0m \u001b[38;5;66;03m# Run simulation for different values of k\u001b[39;00m\n\u001b[1;32m      2\u001b[0m k_deinfluencers_ls \u001b[38;5;241m=\u001b[39m [\u001b[38;5;241m1\u001b[39m,\u001b[38;5;241m2\u001b[39m,\u001b[38;5;241m3\u001b[39m,\u001b[38;5;241m4\u001b[39m,\u001b[38;5;241m5\u001b[39m,\u001b[38;5;241m6\u001b[39m,\u001b[38;5;241m7\u001b[39m,\u001b[38;5;241m8\u001b[39m,\u001b[38;5;241m9\u001b[39m,\u001b[38;5;241m10\u001b[39m,\u001b[38;5;241m11\u001b[39m,\u001b[38;5;241m12\u001b[39m,\u001b[38;5;241m13\u001b[39m,\u001b[38;5;241m14\u001b[39m,\u001b[38;5;241m15\u001b[39m,\u001b[38;5;241m16\u001b[39m,\u001b[38;5;241m17\u001b[39m,\u001b[38;5;241m18\u001b[39m,\u001b[38;5;241m19\u001b[39m,\u001b[38;5;241m20\u001b[39m]  \u001b[38;5;66;03m# Different values of k to test\u001b[39;00m\n\u001b[0;32m----> 3\u001b[0m deinfluencers_list \u001b[38;5;241m=\u001b[39m \u001b[43mef\u001b[49m\u001b[38;5;241;43m.\u001b[39;49m\u001b[43mselect_deinfluencers\u001b[49m\u001b[43m(\u001b[49m\u001b[43mk_deinfluencers_ls\u001b[49m\u001b[43m,\u001b[49m\u001b[43m \u001b[49m\u001b[43mmodel_fixed_influencers\u001b[49m\u001b[43m)\u001b[49m\n\u001b[1;32m      4\u001b[0m results \u001b[38;5;241m=\u001b[39m ef\u001b[38;5;241m.\u001b[39maverage_results(deinfluencers_list, model_fixed_influencers, num_runs\u001b[38;5;241m=\u001b[39m\u001b[38;5;241m3\u001b[39m, steps\u001b[38;5;241m=\u001b[39m\u001b[38;5;241m3\u001b[39m)\n\u001b[1;32m      6\u001b[0m \u001b[38;5;66;03m# Plotting results\u001b[39;00m\n",
      "File \u001b[0;32m~/Desktop/SURP/im_deinfluence/experiment_framework.py:38\u001b[0m, in \u001b[0;36mselect_deinfluencers\u001b[0;34m(k_deinfluencers_ls, model)\u001b[0m\n\u001b[1;32m     36\u001b[0m deinfluencers_dict[\u001b[38;5;124m'\u001b[39m\u001b[38;5;124mRandom\u001b[39m\u001b[38;5;124m'\u001b[39m] \u001b[38;5;241m=\u001b[39m model\u001b[38;5;241m.\u001b[39mselect_deinfluencers_random(k)\n\u001b[1;32m     37\u001b[0m deinfluencers_dict[\u001b[38;5;124m'\u001b[39m\u001b[38;5;124mRanExIniInf\u001b[39m\u001b[38;5;124m'\u001b[39m] \u001b[38;5;241m=\u001b[39m model\u001b[38;5;241m.\u001b[39mselect_deinfluencers_from_not_ini_influencers(k)\n\u001b[0;32m---> 38\u001b[0m deinfluencers_dict[\u001b[38;5;124m'\u001b[39m\u001b[38;5;124mRanExAllInf\u001b[39m\u001b[38;5;124m'\u001b[39m] \u001b[38;5;241m=\u001b[39m \u001b[43mmodel\u001b[49m\u001b[38;5;241;43m.\u001b[39;49m\u001b[43mselect_deinfluencers_from_not_influencers\u001b[49m\u001b[43m(\u001b[49m\u001b[43mk\u001b[49m\u001b[43m)\u001b[49m\n\u001b[1;32m     39\u001b[0m deinfluencers_dict[\u001b[38;5;124m'\u001b[39m\u001b[38;5;124mDegree\u001b[39m\u001b[38;5;124m'\u001b[39m] \u001b[38;5;241m=\u001b[39m model\u001b[38;5;241m.\u001b[39mselect_deinfluencers_degree_centrality(k)\n\u001b[1;32m     40\u001b[0m deinfluencers_dict[\u001b[38;5;124m'\u001b[39m\u001b[38;5;124mCloseness\u001b[39m\u001b[38;5;124m'\u001b[39m] \u001b[38;5;241m=\u001b[39m model\u001b[38;5;241m.\u001b[39mselect_deinfluencers_closeness_centrality(k)\n",
      "File \u001b[0;32m~/Desktop/SURP/im_deinfluence/fast_model_improved.py:370\u001b[0m, in \u001b[0;36mInfluenceDeinfluenceModel.select_deinfluencers_from_not_influencers\u001b[0;34m(self, j)\u001b[0m\n\u001b[1;32m    368\u001b[0m \u001b[38;5;28;01mdef\u001b[39;00m \u001b[38;5;21mselect_deinfluencers_from_not_influencers\u001b[39m(\u001b[38;5;28mself\u001b[39m, j):\n\u001b[1;32m    369\u001b[0m     not_influencers \u001b[38;5;241m=\u001b[39m [node \u001b[38;5;28;01mfor\u001b[39;00m node \u001b[38;5;129;01min\u001b[39;00m \u001b[38;5;28mself\u001b[39m\u001b[38;5;241m.\u001b[39mgraph\u001b[38;5;241m.\u001b[39mnodes \u001b[38;5;28;01mif\u001b[39;00m \u001b[38;5;28mself\u001b[39m\u001b[38;5;241m.\u001b[39mgraph\u001b[38;5;241m.\u001b[39mnodes[node][\u001b[38;5;124m'\u001b[39m\u001b[38;5;124mstate\u001b[39m\u001b[38;5;124m'\u001b[39m] \u001b[38;5;241m!=\u001b[39m \u001b[38;5;124m'\u001b[39m\u001b[38;5;124mI\u001b[39m\u001b[38;5;124m'\u001b[39m]\n\u001b[0;32m--> 370\u001b[0m     deinfluencers \u001b[38;5;241m=\u001b[39m \u001b[43mrandom\u001b[49m\u001b[38;5;241;43m.\u001b[39;49m\u001b[43msample\u001b[49m\u001b[43m(\u001b[49m\u001b[43mnot_influencers\u001b[49m\u001b[43m,\u001b[49m\u001b[43m \u001b[49m\u001b[43mj\u001b[49m\u001b[43m)\u001b[49m\n\u001b[1;32m    371\u001b[0m     \u001b[38;5;28;01mreturn\u001b[39;00m deinfluencers\n",
      "File \u001b[0;32m/Library/Frameworks/Python.framework/Versions/3.11/lib/python3.11/random.py:456\u001b[0m, in \u001b[0;36mRandom.sample\u001b[0;34m(self, population, k, counts)\u001b[0m\n\u001b[1;32m    454\u001b[0m randbelow \u001b[38;5;241m=\u001b[39m \u001b[38;5;28mself\u001b[39m\u001b[38;5;241m.\u001b[39m_randbelow\n\u001b[1;32m    455\u001b[0m \u001b[38;5;28;01mif\u001b[39;00m \u001b[38;5;129;01mnot\u001b[39;00m \u001b[38;5;241m0\u001b[39m \u001b[38;5;241m<\u001b[39m\u001b[38;5;241m=\u001b[39m k \u001b[38;5;241m<\u001b[39m\u001b[38;5;241m=\u001b[39m n:\n\u001b[0;32m--> 456\u001b[0m     \u001b[38;5;28;01mraise\u001b[39;00m \u001b[38;5;167;01mValueError\u001b[39;00m(\u001b[38;5;124m\"\u001b[39m\u001b[38;5;124mSample larger than population or is negative\u001b[39m\u001b[38;5;124m\"\u001b[39m)\n\u001b[1;32m    457\u001b[0m result \u001b[38;5;241m=\u001b[39m [\u001b[38;5;28;01mNone\u001b[39;00m] \u001b[38;5;241m*\u001b[39m k\n\u001b[1;32m    458\u001b[0m setsize \u001b[38;5;241m=\u001b[39m \u001b[38;5;241m21\u001b[39m        \u001b[38;5;66;03m# size of a small set minus size of an empty list\u001b[39;00m\n",
      "\u001b[0;31mValueError\u001b[0m: Sample larger than population or is negative"
     ]
    }
   ],
   "source": [
    "# Run simulation for different values of k\n",
    "k_deinfluencers_ls = [1,2,3,4,5,6,7,8,9,10,11,12,13,14,15,16,17,18,19,20]  # Different values of k to test\n",
    "deinfluencers_list = ef.select_deinfluencers(k_deinfluencers_ls, model_fixed_influencers)\n",
    "results = ef.average_results(deinfluencers_list, model_fixed_influencers, num_runs=3, steps=3)"
   ]
  },
  {
   "cell_type": "code",
   "execution_count": null,
   "metadata": {},
   "outputs": [],
   "source": [
    "# Define different marker styles for each method\n",
    "marker_styles = {\n",
    "    'Random': 'o',\n",
    "    'RanExIniInf': 's',\n",
    "    'RanExAllInf': 'D',\n",
    "    'Degree': 'v',\n",
    "    'Closeness': '^',\n",
    "    'Betweenness': '<',\n",
    "    'Eigenvector': '>',\n",
    "    'PageRank': 'P',\n",
    "    'RIniInf': '*',\n",
    "    'RInfl': 'h',\n",
    "    'RRankedIniInf': 'X',\n",
    "    'RRankedInf': 'd'\n",
    "}\n",
    "\n",
    "# Plotting results\n",
    "fig, axs = plt.subplots(3, figsize=(20, 20))\n",
    "axs[0].set_title('Measured Deinfluence against Deinfluencer selection methods')\n",
    "axs[1].set_title('Measured Influence against Deinfluencer selection methods')\n",
    "axs[2].set_title('Measured Susceptible against Deinfluencer selection methods')\n",
    "\n",
    "# Create line plots\n",
    "methods = results[next(iter(results))].keys()  # Get all methods from the first key\n",
    "k_values = sorted(results.keys())  # Sort k values for plotting\n",
    "\n",
    "total_nodes = len(G.nodes)\n",
    "\n",
    "for method in methods:\n",
    "    deinfluenced_nodes = [results[k][method][0] for k in k_values]\n",
    "    influenced_nodes = [results[k][method][1] for k in k_values]\n",
    "    susceptible_nodes = [total_nodes - (influenced + deinfluenced) for influenced, deinfluenced in zip(influenced_nodes, deinfluenced_nodes)]\n",
    "\n",
    "    marker = marker_styles.get(method, 'o')  # Default to 'o' if method is not in marker_styles\n",
    "\n",
    "    axs[0].plot(k_values, deinfluenced_nodes, label=method, marker=marker)\n",
    "    axs[1].plot(k_values, influenced_nodes, label=method, marker=marker)\n",
    "    axs[2].plot(k_values, susceptible_nodes, label=method, marker=marker)\n",
    "\n",
    "axs[0].legend()\n",
    "axs[0].set_xlabel('Number of Deinfluencers')\n",
    "axs[0].set_ylabel('Average Number of Deinfluenced Nodes')\n",
    "\n",
    "axs[1].legend()\n",
    "axs[1].set_xlabel('Number of Deinfluencers')\n",
    "axs[1].set_ylabel('Average Number of Influenced Nodes')\n",
    "\n",
    "axs[2].legend()\n",
    "axs[2].set_xlabel('Number of Deinfluencers')\n",
    "axs[2].set_ylabel('Average Number of Susceptible Nodes')\n",
    "\n",
    "plt.tight_layout()\n",
    "plt.show()\n"
   ]
  }
 ],
 "metadata": {
  "kernelspec": {
   "display_name": "Python 3",
   "language": "python",
   "name": "python3"
  },
  "language_info": {
   "codemirror_mode": {
    "name": "ipython",
    "version": 3
   },
   "file_extension": ".py",
   "mimetype": "text/x-python",
   "name": "python",
   "nbconvert_exporter": "python",
   "pygments_lexer": "ipython3",
   "version": "3.11.4"
  }
 },
 "nbformat": 4,
 "nbformat_minor": 2
}
