{
 "cells": [
  {
   "cell_type": "code",
   "execution_count": 5,
   "metadata": {},
   "outputs": [],
   "source": [
    "import experiment_framework as ef\n",
    "import fast_model_improved as fmi\n",
    "from pyexpat import model\n",
    "import networkx as nx\n",
    "import matplotlib.pyplot as plt\n",
    "import copy\n",
    "import numpy as np\n",
    "import pickle"
   ]
  },
  {
   "cell_type": "code",
   "execution_count": 6,
   "metadata": {},
   "outputs": [
    {
     "name": "stdout",
     "output_type": "stream",
     "text": [
      "Graph loaded from /Users/huberyhu/Desktop/SURP/im_deinfluence/network_data/ca-GrQc.gpickle\n"
     ]
    }
   ],
   "source": [
    "# Load the graph from the file\n",
    "save_path = '/Users/huberyhu/Desktop/SURP/im_deinfluence/network_data/as-caida.gpickle'\n",
    "try:\n",
    "    with open(save_path, 'rb') as f:\n",
    "        G = pickle.load(f)\n",
    "    print(f\"Graph loaded from {save_path}\")\n",
    "except Exception as e:\n",
    "    print(f\"An error occurred while loading the graph: {e}\")\n"
   ]
  },
  {
   "cell_type": "code",
   "execution_count": 7,
   "metadata": {},
   "outputs": [
    {
     "name": "stdout",
     "output_type": "stream",
     "text": [
      "Number of influenced nodes: 1362\n",
      "Number of deinfluenced nodes: 0\n",
      "Number of susceptible nodes: 3880\n",
      "influencer {15616, 1025, 13060, 8711, 3209, 7689, 20489, 13712, 8854, 21404, 3999, 8868, 4261, 12453, 19111, 3239, 1958, 6576, 2352, 17585, 25910, 17592, 824, 9913, 18235, 20792, 25661, 2622, 3651, 9413, 23110, 8134, 2504, 22728, 12618, 23240, 13008, 12884, 3032, 20569, 3033, 5083, 25565, 22369, 9189, 1386, 20331, 3821, 19578, 25086}\n"
     ]
    }
   ],
   "source": [
    "model = ef.run_influence_cascade(G, num_influencers=50, steps=3, selection_method='random')\n",
    "\n",
    "# Evaluate the influence and deinfluence\n",
    "num_influenced = model.evaluate_influence()\n",
    "num_deinfluenced = model.evaluate_deinfluence()\n",
    "num_susceptible = model.evaluate_susceptible()\n",
    "\n",
    "# Create a deep copy of the model\n",
    "model_fixed_influencers = copy.deepcopy(model)\n",
    "\n",
    "# Evaluate the influence and deinfluence\n",
    "num_influenced = model_fixed_influencers.evaluate_influence()\n",
    "num_deinfluenced = model_fixed_influencers.evaluate_deinfluence()\n",
    "num_susceptible = model_fixed_influencers.evaluate_susceptible()\n",
    "\n",
    "print(f\"Number of influenced nodes: {num_influenced}\")\n",
    "print(f\"Number of deinfluenced nodes: {num_deinfluenced}\")\n",
    "print(f\"Number of susceptible nodes: {num_susceptible}\")\n",
    "print('influencer', model.selected_influencers)"
   ]
  },
  {
   "cell_type": "code",
   "execution_count": 8,
   "metadata": {},
   "outputs": [],
   "source": [
    "# Run simulation for different values of k\n",
    "k_deinfluencers_ls = [0,1,2,3,4,5,6,7,8,9,10]  # Different values of k to test\n",
    "deinfluencers_list = ef.select_deinfluencers(k_deinfluencers_ls, model_fixed_influencers)\n",
    "results = ef.average_results(deinfluencers_list, model_fixed_influencers, num_runs=3, steps=2)\n",
    "\n",
    "# Plotting results\n",
    "fig, axs = plt.subplots(2, figsize=(10, 10))\n",
    "axs[0].set_title('Measured Influence against Deinfluencer selection methods')\n",
    "axs[1].set_title('Measured Deinfluence against Deinfluencer selection methods')\n",
    "\n",
    "# Create line plots\n",
    "methods = results[next(iter(results))].keys()  # Get all methods from the first key\n",
    "k_values = sorted(results.keys())  # Sort k values for plotting\n",
    "\n",
    "for method in methods:\n",
    "    influenced_nodes = [results[k][method][0] for k in k_values]\n",
    "    total_steps = [results[k][method][1] for k in k_values]\n",
    "\n",
    "    axs[0].plot(k_values, influenced_nodes, label=method, marker='o')\n",
    "    axs[1].plot(k_values, total_steps, label=method, marker='o')\n",
    "\n",
    "axs[0].legend()\n",
    "axs[0].set_xlabel('Number of Deinfluencers')\n",
    "axs[0].set_ylabel('Average Number of DeInfluenced Nodes')\n",
    "\n",
    "axs[1].legend()\n",
    "axs[1].set_xlabel('Number of Deinfluencers')\n",
    "axs[1].set_ylabel('Average Number of Influenced Nodes')\n",
    "\n",
    "plt.tight_layout()\n",
    "plt.show()\n"
   ]
  }
 ],
 "metadata": {
  "kernelspec": {
   "display_name": "Python 3",
   "language": "python",
   "name": "python3"
  },
  "language_info": {
   "codemirror_mode": {
    "name": "ipython",
    "version": 3
   },
   "file_extension": ".py",
   "mimetype": "text/x-python",
   "name": "python",
   "nbconvert_exporter": "python",
   "pygments_lexer": "ipython3",
   "version": "3.11.4"
  }
 },
 "nbformat": 4,
 "nbformat_minor": 2
}
