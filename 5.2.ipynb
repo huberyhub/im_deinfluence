{
 "cells": [
  {
   "cell_type": "code",
   "execution_count": 1,
   "metadata": {},
   "outputs": [],
   "source": [
    "import networkx as nx\n",
    "import fast_model_improved as fmi\n",
    "from pyexpat import model\n",
    "import networkx as nx\n",
    "import numpy as np\n",
    "import matplotlib.pyplot as plt\n",
    "import copy"
   ]
  },
  {
   "cell_type": "code",
   "execution_count": 2,
   "metadata": {},
   "outputs": [],
   "source": [
    "def choose_influencers(model, num_influencers, method='random'):\n",
    "    if method == 'random':\n",
    "        return model.random_influencers(num_influencers)\n",
    "    elif method == 'hill_climbing':\n",
    "        return model.greedy_hill_climbing(num_influencers, steps=10, R=10)\n",
    "    else:\n",
    "        raise ValueError(\"Unsupported method for selecting influencers\")\n",
    "\n",
    "def run_influence_cascade(graph, num_influencers, steps, selection_method='random'):\n",
    "\n",
    "    # Initialize the model\n",
    "    model = fmi.InfluenceDeinfluenceModel(graph, selection_method)\n",
    "    \n",
    "    # Choose influencers\n",
    "    influencers = choose_influencers(model, num_influencers, method=selection_method)\n",
    "    model.set_influencers(influencers)\n",
    "    model.selected_influencers = influencers\n",
    "    \n",
    "    # Run the cascade\n",
    "    model.run_cascade(steps)\n",
    "    \n",
    "    # Return the updated graph and model\n",
    "    return model\n",
    "\n",
    "def run_simple_cascade(steps):\n",
    "    model.set_influencers(model.selected_influencers)\n",
    "    model.run_cascade(steps)\n",
    "    return model\n"
   ]
  },
  {
   "cell_type": "code",
   "execution_count": 3,
   "metadata": {},
   "outputs": [],
   "source": [
    "# Define the combined count function\n",
    "def count_deinfluenced(model, deinfluencers, num_runs, steps):\n",
    "    total_deinfluenced = 0\n",
    "    total_influenced = 0\n",
    "    total_transition_counts = {'I->S': 0, 'D->S': 0, 'D->I': 0}\n",
    "    \n",
    "    # Create a deep copy of the model to ensure initial influencers remain the same\n",
    "    initial_model = copy.deepcopy(model)\n",
    "    \n",
    "    for _ in range(num_runs):\n",
    "        # Reset the model to the initial state with the same influencers\n",
    "        model = copy.deepcopy(initial_model)\n",
    "        model.reset_transition_counts()\n",
    "        model.set_deinfluencers(deinfluencers)\n",
    "        model.run_cascade(steps)\n",
    "        \n",
    "        total_deinfluenced += model.evaluate_deinfluence()\n",
    "        total_influenced += model.evaluate_influence()\n",
    "        \n",
    "        for key in total_transition_counts:\n",
    "            total_transition_counts[key] += model.transition_counts[key]\n",
    "            \n",
    "    return total_deinfluenced / num_runs, total_influenced / num_runs, {key: total / num_runs for key, total in total_transition_counts.items()}\n"
   ]
  },
  {
   "cell_type": "code",
   "execution_count": 4,
   "metadata": {},
   "outputs": [],
   "source": [
    "G = create_network('erdos_renyi', 2000)\n",
    "model = run_influence_cascade(G, num_influencers=20, steps=3, selection_method='random')\n",
    "\n",
    "# Evaluate the influence and deinfluence\n",
    "num_influenced = model.evaluate_influence()\n",
    "num_deinfluenced = model.evaluate_deinfluence()\n",
    "num_susceptible = model.evaluate_susceptible()\n",
    "\n",
    "# Create a deep copy of the model\n",
    "model_fixed_influencers = copy.deepcopy(model)"
   ]
  },
  {
   "cell_type": "code",
   "execution_count": 5,
   "metadata": {},
   "outputs": [],
   "source": [
    "def select_deinfluencers(k_deinfluencers_ls):\n",
    "    deinfluencers_list = []\n",
    "    \n",
    "    for k in k_deinfluencers_ls:\n",
    "        deinfluencers_dict = {}\n",
    "        \n",
    "        # Sample function calls to model object methods\n",
    "        deinfluencers_dict['Random'] = model.select_deinfluencers_random(k)\n",
    "        deinfluencers_dict['RanExIniInf'] = model.select_deinfluencers_from_not_ini_influencers(k)\n",
    "        deinfluencers_dict['RanExAllInf'] = model.select_deinfluencers_from_not_influencers(k)\n",
    "        deinfluencers_dict['Degree'] = model.select_deinfluencers_degree_centrality(k)\n",
    "        deinfluencers_dict['Closeness'] = model.select_deinfluencers_closeness_centrality(k)\n",
    "        deinfluencers_dict['Betweenness'] = model.select_deinfluencers_betweenness_centrality(k)\n",
    "        deinfluencers_dict['Eigenvector'] = model.select_deinfluencers_eigenvector_centrality(k, max_iter=1000, tol=1e-06)\n",
    "        deinfluencers_dict['PageRank'] = model.select_deinfluencers_pagerank_centrality(k)\n",
    "        deinfluencers_dict['RIniInf'] = model.select_deinfluencers_from_ini_influencers(k)\n",
    "        deinfluencers_dict['RInfl'] = model.select_deinfluencers_from_influencers(k)\n",
    "        deinfluencers_dict['RRankedIniInf'] = model.select_deinfluencers_from_ini_influencers_degree_centrality(k)\n",
    "        deinfluencers_dict['RRankedInf'] = model.select_deinfluencers_from_influencers_degree_centrality(k)\n",
    "        \n",
    "        deinfluencers_list.append((k, deinfluencers_dict))\n",
    "    \n",
    "    return deinfluencers_list"
   ]
  },
  {
   "cell_type": "code",
   "execution_count": 6,
   "metadata": {},
   "outputs": [
    {
     "name": "stdout",
     "output_type": "stream",
     "text": [
      "Number of influenced nodes: 2000\n",
      "Number of deinfluenced nodes: 0\n",
      "Number of susceptible nodes: 0\n",
      "influencer {774, 1926, 1163, 396, 660, 279, 1177, 1690, 673, 1697, 676, 1320, 49, 1975, 62, 1350, 1637, 1893, 241, 243}\n"
     ]
    }
   ],
   "source": [
    "# Evaluate the influence and deinfluence\n",
    "num_influenced = model_fixed_influencers.evaluate_influence()\n",
    "num_deinfluenced = model_fixed_influencers.evaluate_deinfluence()\n",
    "num_susceptible = model_fixed_influencers.evaluate_susceptible()\n",
    "\n",
    "print(f\"Number of influenced nodes: {num_influenced}\")\n",
    "print(f\"Number of deinfluenced nodes: {num_deinfluenced}\")\n",
    "print(f\"Number of susceptible nodes: {num_susceptible}\")\n",
    "print('influencer', model.selected_influencers)\n"
   ]
  },
  {
   "cell_type": "code",
   "execution_count": 7,
   "metadata": {},
   "outputs": [],
   "source": [
    "def average_results(deinfluencers_list, model, num_runs, steps):\n",
    "    cumulative_results = {}\n",
    "\n",
    "    for k, deinfluencers_methods in deinfluencers_list:\n",
    "        if k not in cumulative_results:\n",
    "            cumulative_results[k] = {method: (0, 0, {'I->S': 0, 'D->S': 0, 'D->I': 0}) for method in deinfluencers_methods.keys()}\n",
    "        \n",
    "        for _ in range(num_runs):\n",
    "            results = {\n",
    "                method: count_deinfluenced(model_fixed_influencers, deinfluencers, num_runs, steps)\n",
    "                for method, deinfluencers in deinfluencers_methods.items()\n",
    "            }\n",
    "            \n",
    "            for method, result in results.items():\n",
    "                cumulative_results[k][method] = (\n",
    "                    cumulative_results[k][method][0] + result[0],\n",
    "                    cumulative_results[k][method][1] + result[1],\n",
    "                    {key: cumulative_results[k][method][2][key] + result[2][key] for key in result[2]}\n",
    "                )\n",
    "    \n",
    "    average_results = {\n",
    "        k: {\n",
    "            method: (\n",
    "                cumulative_results[k][method][0] / num_runs,\n",
    "                cumulative_results[k][method][1] / num_runs,\n",
    "                {key: cumulative_results[k][method][2][key] / num_runs for key in cumulative_results[k][method][2]}\n",
    "            )\n",
    "            for method in cumulative_results[k]\n",
    "        }\n",
    "        for k in cumulative_results\n",
    "    }\n",
    "    \n",
    "    return average_results\n"
   ]
  },
  {
   "cell_type": "code",
   "execution_count": 8,
   "metadata": {},
   "outputs": [
    {
     "ename": "ValueError",
     "evalue": "Sample larger than population or is negative",
     "output_type": "error",
     "traceback": [
      "\u001b[0;31m---------------------------------------------------------------------------\u001b[0m",
      "\u001b[0;31mValueError\u001b[0m                                Traceback (most recent call last)",
      "Cell \u001b[0;32mIn[8], line 3\u001b[0m\n\u001b[1;32m      1\u001b[0m \u001b[38;5;66;03m# Run simulation for different values of k\u001b[39;00m\n\u001b[1;32m      2\u001b[0m k_deinfluencers_ls \u001b[38;5;241m=\u001b[39m [\u001b[38;5;241m1\u001b[39m,\u001b[38;5;241m2\u001b[39m,\u001b[38;5;241m3\u001b[39m,\u001b[38;5;241m4\u001b[39m,\u001b[38;5;241m5\u001b[39m,\u001b[38;5;241m6\u001b[39m,\u001b[38;5;241m7\u001b[39m,\u001b[38;5;241m8\u001b[39m,\u001b[38;5;241m9\u001b[39m,\u001b[38;5;241m10\u001b[39m]  \u001b[38;5;66;03m# Different values of k to test\u001b[39;00m\n\u001b[0;32m----> 3\u001b[0m deinfluencers_list \u001b[38;5;241m=\u001b[39m \u001b[43mselect_deinfluencers\u001b[49m\u001b[43m(\u001b[49m\u001b[43mk_deinfluencers_ls\u001b[49m\u001b[43m)\u001b[49m\n\u001b[1;32m      4\u001b[0m results \u001b[38;5;241m=\u001b[39m average_results(deinfluencers_list, model, num_runs\u001b[38;5;241m=\u001b[39m\u001b[38;5;241m3\u001b[39m, steps\u001b[38;5;241m=\u001b[39m\u001b[38;5;241m3\u001b[39m)\n\u001b[1;32m      6\u001b[0m \u001b[38;5;66;03m# Plotting results\u001b[39;00m\n",
      "Cell \u001b[0;32mIn[5], line 10\u001b[0m, in \u001b[0;36mselect_deinfluencers\u001b[0;34m(k_deinfluencers_ls)\u001b[0m\n\u001b[1;32m      8\u001b[0m deinfluencers_dict[\u001b[38;5;124m'\u001b[39m\u001b[38;5;124mRandom\u001b[39m\u001b[38;5;124m'\u001b[39m] \u001b[38;5;241m=\u001b[39m model\u001b[38;5;241m.\u001b[39mselect_deinfluencers_random(k)\n\u001b[1;32m      9\u001b[0m deinfluencers_dict[\u001b[38;5;124m'\u001b[39m\u001b[38;5;124mRanExIniInf\u001b[39m\u001b[38;5;124m'\u001b[39m] \u001b[38;5;241m=\u001b[39m model\u001b[38;5;241m.\u001b[39mselect_deinfluencers_from_not_ini_influencers(k)\n\u001b[0;32m---> 10\u001b[0m deinfluencers_dict[\u001b[38;5;124m'\u001b[39m\u001b[38;5;124mRanExAllInf\u001b[39m\u001b[38;5;124m'\u001b[39m] \u001b[38;5;241m=\u001b[39m \u001b[43mmodel\u001b[49m\u001b[38;5;241;43m.\u001b[39;49m\u001b[43mselect_deinfluencers_from_not_influencers\u001b[49m\u001b[43m(\u001b[49m\u001b[43mk\u001b[49m\u001b[43m)\u001b[49m\n\u001b[1;32m     11\u001b[0m deinfluencers_dict[\u001b[38;5;124m'\u001b[39m\u001b[38;5;124mDegree\u001b[39m\u001b[38;5;124m'\u001b[39m] \u001b[38;5;241m=\u001b[39m model\u001b[38;5;241m.\u001b[39mselect_deinfluencers_degree_centrality(k)\n\u001b[1;32m     12\u001b[0m deinfluencers_dict[\u001b[38;5;124m'\u001b[39m\u001b[38;5;124mCloseness\u001b[39m\u001b[38;5;124m'\u001b[39m] \u001b[38;5;241m=\u001b[39m model\u001b[38;5;241m.\u001b[39mselect_deinfluencers_closeness_centrality(k)\n",
      "File \u001b[0;32m~/Desktop/SURP/im_deinfluence/fast_model_improved.py:354\u001b[0m, in \u001b[0;36mInfluenceDeinfluenceModel.select_deinfluencers_from_not_influencers\u001b[0;34m(self, j)\u001b[0m\n\u001b[1;32m    352\u001b[0m \u001b[38;5;28;01mdef\u001b[39;00m \u001b[38;5;21mselect_deinfluencers_from_not_influencers\u001b[39m(\u001b[38;5;28mself\u001b[39m, j):\n\u001b[1;32m    353\u001b[0m     not_influencers \u001b[38;5;241m=\u001b[39m [node \u001b[38;5;28;01mfor\u001b[39;00m node \u001b[38;5;129;01min\u001b[39;00m \u001b[38;5;28mself\u001b[39m\u001b[38;5;241m.\u001b[39mgraph\u001b[38;5;241m.\u001b[39mnodes \u001b[38;5;28;01mif\u001b[39;00m \u001b[38;5;28mself\u001b[39m\u001b[38;5;241m.\u001b[39mgraph\u001b[38;5;241m.\u001b[39mnodes[node][\u001b[38;5;124m'\u001b[39m\u001b[38;5;124mstate\u001b[39m\u001b[38;5;124m'\u001b[39m] \u001b[38;5;241m!=\u001b[39m \u001b[38;5;124m'\u001b[39m\u001b[38;5;124mI\u001b[39m\u001b[38;5;124m'\u001b[39m]\n\u001b[0;32m--> 354\u001b[0m     deinfluencers \u001b[38;5;241m=\u001b[39m \u001b[43mrandom\u001b[49m\u001b[38;5;241;43m.\u001b[39;49m\u001b[43msample\u001b[49m\u001b[43m(\u001b[49m\u001b[43mnot_influencers\u001b[49m\u001b[43m,\u001b[49m\u001b[43m \u001b[49m\u001b[43mj\u001b[49m\u001b[43m)\u001b[49m\n\u001b[1;32m    355\u001b[0m     \u001b[38;5;28;01mreturn\u001b[39;00m deinfluencers\n",
      "File \u001b[0;32m/Library/Frameworks/Python.framework/Versions/3.11/lib/python3.11/random.py:456\u001b[0m, in \u001b[0;36mRandom.sample\u001b[0;34m(self, population, k, counts)\u001b[0m\n\u001b[1;32m    454\u001b[0m randbelow \u001b[38;5;241m=\u001b[39m \u001b[38;5;28mself\u001b[39m\u001b[38;5;241m.\u001b[39m_randbelow\n\u001b[1;32m    455\u001b[0m \u001b[38;5;28;01mif\u001b[39;00m \u001b[38;5;129;01mnot\u001b[39;00m \u001b[38;5;241m0\u001b[39m \u001b[38;5;241m<\u001b[39m\u001b[38;5;241m=\u001b[39m k \u001b[38;5;241m<\u001b[39m\u001b[38;5;241m=\u001b[39m n:\n\u001b[0;32m--> 456\u001b[0m     \u001b[38;5;28;01mraise\u001b[39;00m \u001b[38;5;167;01mValueError\u001b[39;00m(\u001b[38;5;124m\"\u001b[39m\u001b[38;5;124mSample larger than population or is negative\u001b[39m\u001b[38;5;124m\"\u001b[39m)\n\u001b[1;32m    457\u001b[0m result \u001b[38;5;241m=\u001b[39m [\u001b[38;5;28;01mNone\u001b[39;00m] \u001b[38;5;241m*\u001b[39m k\n\u001b[1;32m    458\u001b[0m setsize \u001b[38;5;241m=\u001b[39m \u001b[38;5;241m21\u001b[39m        \u001b[38;5;66;03m# size of a small set minus size of an empty list\u001b[39;00m\n",
      "\u001b[0;31mValueError\u001b[0m: Sample larger than population or is negative"
     ]
    }
   ],
   "source": [
    "# Run simulation for different values of k\n",
    "k_deinfluencers_ls = [1,2,3,4,5,6,7,8,9,10]  # Different values of k to test\n",
    "deinfluencers_list = select_deinfluencers(k_deinfluencers_ls)\n",
    "results = average_results(deinfluencers_list, model, num_runs=3, steps=3)\n",
    "\n",
    "# Plotting results\n",
    "fig, axs = plt.subplots(2, figsize=(10, 10))\n",
    "axs[0].set_title('Number of Influenced Nodes')\n",
    "axs[1].set_title('Total Steps')\n",
    "\n",
    "# Create line plots\n",
    "methods = results[next(iter(results))].keys()  # Get all methods from the first key\n",
    "k_values = sorted(results.keys())  # Sort k values for plotting\n",
    "\n",
    "for method in methods:\n",
    "    influenced_nodes = [results[k][method][0] for k in k_values]\n",
    "    total_steps = [results[k][method][1] for k in k_values]\n",
    "\n",
    "    axs[0].plot(k_values, influenced_nodes, label=method, marker='o')\n",
    "    axs[1].plot(k_values, total_steps, label=method, marker='o')\n",
    "\n",
    "axs[0].legend()\n",
    "axs[0].set_xlabel('Number of Deinfluencers')\n",
    "axs[0].set_ylabel('Average Number of Influenced Nodes')\n",
    "\n",
    "axs[1].legend()\n",
    "axs[1].set_xlabel('Number of Deinfluencers')\n",
    "axs[1].set_ylabel('Average Total Steps')\n",
    "\n",
    "plt.tight_layout()\n",
    "plt.show()\n"
   ]
  }
 ],
 "metadata": {
  "kernelspec": {
   "display_name": "Python 3",
   "language": "python",
   "name": "python3"
  },
  "language_info": {
   "codemirror_mode": {
    "name": "ipython",
    "version": 3
   },
   "file_extension": ".py",
   "mimetype": "text/x-python",
   "name": "python",
   "nbconvert_exporter": "python",
   "pygments_lexer": "ipython3",
   "version": "3.11.4"
  }
 },
 "nbformat": 4,
 "nbformat_minor": 2
}
