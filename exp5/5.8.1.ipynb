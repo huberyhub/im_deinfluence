{
 "cells": [
  {
   "cell_type": "code",
   "execution_count": 4,
   "metadata": {},
   "outputs": [],
   "source": [
    "import experiment_framework as ef\n",
    "import fast_model_improved as fmi\n",
    "from pyexpat import model\n",
    "import networkx as nx\n",
    "import matplotlib.pyplot as plt\n",
    "import copy\n",
    "import numpy as np\n",
    "import pickle"
   ]
  },
  {
   "cell_type": "code",
   "execution_count": 5,
   "metadata": {},
   "outputs": [
    {
     "name": "stdout",
     "output_type": "stream",
     "text": [
      "Graph loaded from /Users/huberyhu/Desktop/SURP/im_deinfluence/network_data/as-caida.gpickle\n"
     ]
    }
   ],
   "source": [
    "# Load the graph from the file\n",
    "save_path = '/Users/huberyhu/Desktop/SURP/im_deinfluence/network_data/as-caida.gpickle'\n",
    "try:\n",
    "    with open(save_path, 'rb') as f:\n",
    "        G = pickle.load(f)\n",
    "    print(f\"Graph loaded from {save_path}\")\n",
    "except Exception as e:\n",
    "    print(f\"An error occurred while loading the graph: {e}\")\n"
   ]
  },
  {
   "cell_type": "code",
   "execution_count": 6,
   "metadata": {},
   "outputs": [
    {
     "name": "stdout",
     "output_type": "stream",
     "text": [
      "Number of influenced nodes: 15183\n",
      "Number of deinfluenced nodes: 0\n",
      "Number of susceptible nodes: 11292\n",
      "influencer {11014, 40072, 27274, 25229, 39949, 20111, 23696, 16144, 21135, 35987, 42261, 539, 35741, 26275, 23332, 39211, 17581, 25006, 15411, 1591, 19640, 38461, 11590, 39881, 1483, 29389, 20179, 23767, 855, 12120, 43354, 22493, 10589, 6109, 33248, 39133, 17379, 9318, 34793, 4716, 18799, 41715, 24052, 39157, 36855, 35193, 20858, 30075, 14718, 30719}\n"
     ]
    }
   ],
   "source": [
    "model = ef.run_influence_cascade(G, num_influencers=50, steps=3, selection_method='random')\n",
    "\n",
    "# Evaluate the influence and deinfluence\n",
    "num_influenced = model.evaluate_influence()\n",
    "num_deinfluenced = model.evaluate_deinfluence()\n",
    "num_susceptible = model.evaluate_susceptible()\n",
    "\n",
    "# Create a deep copy of the model\n",
    "model_fixed_influencers = copy.deepcopy(model)\n",
    "\n",
    "# Evaluate the influence and deinfluence\n",
    "num_influenced = model_fixed_influencers.evaluate_influence()\n",
    "num_deinfluenced = model_fixed_influencers.evaluate_deinfluence()\n",
    "num_susceptible = model_fixed_influencers.evaluate_susceptible()\n",
    "\n",
    "print(f\"Number of influenced nodes: {num_influenced}\")\n",
    "print(f\"Number of deinfluenced nodes: {num_deinfluenced}\")\n",
    "print(f\"Number of susceptible nodes: {num_susceptible}\")\n",
    "print('influencer', model.selected_influencers)"
   ]
  },
  {
   "cell_type": "code",
   "execution_count": 7,
   "metadata": {},
   "outputs": [
    {
     "ename": "KeyboardInterrupt",
     "evalue": "",
     "output_type": "error",
     "traceback": [
      "\u001b[0;31m---------------------------------------------------------------------------\u001b[0m",
      "\u001b[0;31mKeyboardInterrupt\u001b[0m                         Traceback (most recent call last)",
      "Cell \u001b[0;32mIn[7], line 3\u001b[0m\n\u001b[1;32m      1\u001b[0m \u001b[38;5;66;03m# Run simulation for different values of k\u001b[39;00m\n\u001b[1;32m      2\u001b[0m k_deinfluencers_ls \u001b[38;5;241m=\u001b[39m [\u001b[38;5;241m0\u001b[39m,\u001b[38;5;241m1\u001b[39m,\u001b[38;5;241m2\u001b[39m,\u001b[38;5;241m3\u001b[39m,\u001b[38;5;241m4\u001b[39m,\u001b[38;5;241m5\u001b[39m,\u001b[38;5;241m6\u001b[39m,\u001b[38;5;241m7\u001b[39m,\u001b[38;5;241m8\u001b[39m,\u001b[38;5;241m9\u001b[39m,\u001b[38;5;241m10\u001b[39m]  \u001b[38;5;66;03m# Different values of k to test\u001b[39;00m\n\u001b[0;32m----> 3\u001b[0m deinfluencers_list \u001b[38;5;241m=\u001b[39m \u001b[43mef\u001b[49m\u001b[38;5;241;43m.\u001b[39;49m\u001b[43mselect_deinfluencers\u001b[49m\u001b[43m(\u001b[49m\u001b[43mk_deinfluencers_ls\u001b[49m\u001b[43m,\u001b[49m\u001b[43m \u001b[49m\u001b[43mmodel_fixed_influencers\u001b[49m\u001b[43m)\u001b[49m\n\u001b[1;32m      4\u001b[0m results \u001b[38;5;241m=\u001b[39m ef\u001b[38;5;241m.\u001b[39maverage_results(deinfluencers_list, model_fixed_influencers, num_runs\u001b[38;5;241m=\u001b[39m\u001b[38;5;241m1\u001b[39m, steps\u001b[38;5;241m=\u001b[39m\u001b[38;5;241m2\u001b[39m)\n\u001b[1;32m      6\u001b[0m \u001b[38;5;66;03m# Plotting results\u001b[39;00m\n",
      "File \u001b[0;32m~/Desktop/SURP/im_deinfluence/experiment_framework.py:40\u001b[0m, in \u001b[0;36mselect_deinfluencers\u001b[0;34m(k_deinfluencers_ls, model)\u001b[0m\n\u001b[1;32m     38\u001b[0m deinfluencers_dict[\u001b[38;5;124m'\u001b[39m\u001b[38;5;124mRdExAllInf\u001b[39m\u001b[38;5;124m'\u001b[39m] \u001b[38;5;241m=\u001b[39m model\u001b[38;5;241m.\u001b[39mselect_deinfluencers_from_not_influencers(k)\n\u001b[1;32m     39\u001b[0m deinfluencers_dict[\u001b[38;5;124m'\u001b[39m\u001b[38;5;124mDegree\u001b[39m\u001b[38;5;124m'\u001b[39m] \u001b[38;5;241m=\u001b[39m model\u001b[38;5;241m.\u001b[39mselect_deinfluencers_degree_centrality(k)\n\u001b[0;32m---> 40\u001b[0m deinfluencers_dict[\u001b[38;5;124m'\u001b[39m\u001b[38;5;124mCloseness\u001b[39m\u001b[38;5;124m'\u001b[39m] \u001b[38;5;241m=\u001b[39m \u001b[43mmodel\u001b[49m\u001b[38;5;241;43m.\u001b[39;49m\u001b[43mselect_deinfluencers_closeness_centrality\u001b[49m\u001b[43m(\u001b[49m\u001b[43mk\u001b[49m\u001b[43m)\u001b[49m\n\u001b[1;32m     41\u001b[0m deinfluencers_dict[\u001b[38;5;124m'\u001b[39m\u001b[38;5;124mBetweenness\u001b[39m\u001b[38;5;124m'\u001b[39m] \u001b[38;5;241m=\u001b[39m model\u001b[38;5;241m.\u001b[39mselect_deinfluencers_betweenness_centrality(k)\n\u001b[1;32m     42\u001b[0m deinfluencers_dict[\u001b[38;5;124m'\u001b[39m\u001b[38;5;124mEigenvector\u001b[39m\u001b[38;5;124m'\u001b[39m] \u001b[38;5;241m=\u001b[39m model\u001b[38;5;241m.\u001b[39mselect_deinfluencers_eigenvector_centrality(k, max_iter\u001b[38;5;241m=\u001b[39m\u001b[38;5;241m1000\u001b[39m, tol\u001b[38;5;241m=\u001b[39m\u001b[38;5;241m1e-06\u001b[39m)\n",
      "File \u001b[0;32m~/Desktop/SURP/im_deinfluence/fast_model_improved.py:227\u001b[0m, in \u001b[0;36mInfluenceDeinfluenceModel.select_deinfluencers_closeness_centrality\u001b[0;34m(self, k)\u001b[0m\n\u001b[1;32m    225\u001b[0m \u001b[38;5;28;01mdef\u001b[39;00m \u001b[38;5;21mselect_deinfluencers_closeness_centrality\u001b[39m(\u001b[38;5;28mself\u001b[39m, k):\n\u001b[1;32m    226\u001b[0m \u001b[38;5;250m    \u001b[39m\u001b[38;5;124;03m\"\"\"Select k deinfluencers based on closeness centrality.\"\"\"\u001b[39;00m\n\u001b[0;32m--> 227\u001b[0m     centrality \u001b[38;5;241m=\u001b[39m \u001b[43mnx\u001b[49m\u001b[38;5;241;43m.\u001b[39;49m\u001b[43mcloseness_centrality\u001b[49m\u001b[43m(\u001b[49m\u001b[38;5;28;43mself\u001b[39;49m\u001b[38;5;241;43m.\u001b[39;49m\u001b[43mgraph\u001b[49m\u001b[43m)\u001b[49m\n\u001b[1;32m    228\u001b[0m     \u001b[38;5;28;01mreturn\u001b[39;00m \u001b[38;5;28msorted\u001b[39m(centrality, key\u001b[38;5;241m=\u001b[39mcentrality\u001b[38;5;241m.\u001b[39mget, reverse\u001b[38;5;241m=\u001b[39m\u001b[38;5;28;01mTrue\u001b[39;00m)[:k]\n",
      "File \u001b[0;32m/Library/Frameworks/Python.framework/Versions/3.11/lib/python3.11/site-packages/networkx/utils/backends.py:412\u001b[0m, in \u001b[0;36m_dispatch.__call__\u001b[0;34m(self, backend, *args, **kwargs)\u001b[0m\n\u001b[1;32m    409\u001b[0m \u001b[38;5;28;01mdef\u001b[39;00m \u001b[38;5;21m__call__\u001b[39m(\u001b[38;5;28mself\u001b[39m, \u001b[38;5;241m/\u001b[39m, \u001b[38;5;241m*\u001b[39margs, backend\u001b[38;5;241m=\u001b[39m\u001b[38;5;28;01mNone\u001b[39;00m, \u001b[38;5;241m*\u001b[39m\u001b[38;5;241m*\u001b[39mkwargs):\n\u001b[1;32m    410\u001b[0m     \u001b[38;5;28;01mif\u001b[39;00m \u001b[38;5;129;01mnot\u001b[39;00m backends:\n\u001b[1;32m    411\u001b[0m         \u001b[38;5;66;03m# Fast path if no backends are installed\u001b[39;00m\n\u001b[0;32m--> 412\u001b[0m         \u001b[38;5;28;01mreturn\u001b[39;00m \u001b[38;5;28;43mself\u001b[39;49m\u001b[38;5;241;43m.\u001b[39;49m\u001b[43morig_func\u001b[49m\u001b[43m(\u001b[49m\u001b[38;5;241;43m*\u001b[39;49m\u001b[43margs\u001b[49m\u001b[43m,\u001b[49m\u001b[43m \u001b[49m\u001b[38;5;241;43m*\u001b[39;49m\u001b[38;5;241;43m*\u001b[39;49m\u001b[43mkwargs\u001b[49m\u001b[43m)\u001b[49m\n\u001b[1;32m    414\u001b[0m     \u001b[38;5;66;03m# Use `backend_name` in this function instead of `backend`\u001b[39;00m\n\u001b[1;32m    415\u001b[0m     backend_name \u001b[38;5;241m=\u001b[39m backend\n",
      "File \u001b[0;32m/Library/Frameworks/Python.framework/Versions/3.11/lib/python3.11/site-packages/networkx/algorithms/centrality/closeness.py:123\u001b[0m, in \u001b[0;36mcloseness_centrality\u001b[0;34m(G, u, distance, wf_improved)\u001b[0m\n\u001b[1;32m    121\u001b[0m closeness_dict \u001b[38;5;241m=\u001b[39m {}\n\u001b[1;32m    122\u001b[0m \u001b[38;5;28;01mfor\u001b[39;00m n \u001b[38;5;129;01min\u001b[39;00m nodes:\n\u001b[0;32m--> 123\u001b[0m     sp \u001b[38;5;241m=\u001b[39m \u001b[43mpath_length\u001b[49m\u001b[43m(\u001b[49m\u001b[43mG\u001b[49m\u001b[43m,\u001b[49m\u001b[43m \u001b[49m\u001b[43mn\u001b[49m\u001b[43m)\u001b[49m\n\u001b[1;32m    124\u001b[0m     totsp \u001b[38;5;241m=\u001b[39m \u001b[38;5;28msum\u001b[39m(sp\u001b[38;5;241m.\u001b[39mvalues())\n\u001b[1;32m    125\u001b[0m     len_G \u001b[38;5;241m=\u001b[39m \u001b[38;5;28mlen\u001b[39m(G)\n",
      "File \u001b[0;32m/Library/Frameworks/Python.framework/Versions/3.11/lib/python3.11/site-packages/networkx/utils/backends.py:412\u001b[0m, in \u001b[0;36m_dispatch.__call__\u001b[0;34m(self, backend, *args, **kwargs)\u001b[0m\n\u001b[1;32m    409\u001b[0m \u001b[38;5;28;01mdef\u001b[39;00m \u001b[38;5;21m__call__\u001b[39m(\u001b[38;5;28mself\u001b[39m, \u001b[38;5;241m/\u001b[39m, \u001b[38;5;241m*\u001b[39margs, backend\u001b[38;5;241m=\u001b[39m\u001b[38;5;28;01mNone\u001b[39;00m, \u001b[38;5;241m*\u001b[39m\u001b[38;5;241m*\u001b[39mkwargs):\n\u001b[1;32m    410\u001b[0m     \u001b[38;5;28;01mif\u001b[39;00m \u001b[38;5;129;01mnot\u001b[39;00m backends:\n\u001b[1;32m    411\u001b[0m         \u001b[38;5;66;03m# Fast path if no backends are installed\u001b[39;00m\n\u001b[0;32m--> 412\u001b[0m         \u001b[38;5;28;01mreturn\u001b[39;00m \u001b[38;5;28;43mself\u001b[39;49m\u001b[38;5;241;43m.\u001b[39;49m\u001b[43morig_func\u001b[49m\u001b[43m(\u001b[49m\u001b[38;5;241;43m*\u001b[39;49m\u001b[43margs\u001b[49m\u001b[43m,\u001b[49m\u001b[43m \u001b[49m\u001b[38;5;241;43m*\u001b[39;49m\u001b[38;5;241;43m*\u001b[39;49m\u001b[43mkwargs\u001b[49m\u001b[43m)\u001b[49m\n\u001b[1;32m    414\u001b[0m     \u001b[38;5;66;03m# Use `backend_name` in this function instead of `backend`\u001b[39;00m\n\u001b[1;32m    415\u001b[0m     backend_name \u001b[38;5;241m=\u001b[39m backend\n",
      "File \u001b[0;32m/Library/Frameworks/Python.framework/Versions/3.11/lib/python3.11/site-packages/networkx/algorithms/shortest_paths/unweighted.py:62\u001b[0m, in \u001b[0;36msingle_source_shortest_path_length\u001b[0;34m(G, source, cutoff)\u001b[0m\n\u001b[1;32m     60\u001b[0m     cutoff \u001b[38;5;241m=\u001b[39m \u001b[38;5;28mfloat\u001b[39m(\u001b[38;5;124m\"\u001b[39m\u001b[38;5;124minf\u001b[39m\u001b[38;5;124m\"\u001b[39m)\n\u001b[1;32m     61\u001b[0m nextlevel \u001b[38;5;241m=\u001b[39m [source]\n\u001b[0;32m---> 62\u001b[0m \u001b[38;5;28;01mreturn\u001b[39;00m \u001b[38;5;28mdict\u001b[39m(_single_shortest_path_length(G\u001b[38;5;241m.\u001b[39m_adj, nextlevel, cutoff))\n",
      "File \u001b[0;32m/Library/Frameworks/Python.framework/Versions/3.11/lib/python3.11/site-packages/networkx/algorithms/shortest_paths/unweighted.py:91\u001b[0m, in \u001b[0;36m_single_shortest_path_length\u001b[0;34m(adj, firstlevel, cutoff)\u001b[0m\n\u001b[1;32m     89\u001b[0m \u001b[38;5;28;01mfor\u001b[39;00m w \u001b[38;5;129;01min\u001b[39;00m adj[v]:\n\u001b[1;32m     90\u001b[0m     \u001b[38;5;28;01mif\u001b[39;00m w \u001b[38;5;129;01mnot\u001b[39;00m \u001b[38;5;129;01min\u001b[39;00m seen:\n\u001b[0;32m---> 91\u001b[0m         seen\u001b[38;5;241m.\u001b[39madd(w)\n\u001b[1;32m     92\u001b[0m         nextlevel\u001b[38;5;241m.\u001b[39mappend(w)\n\u001b[1;32m     93\u001b[0m         \u001b[38;5;28;01myield\u001b[39;00m (w, level)\n",
      "\u001b[0;31mKeyboardInterrupt\u001b[0m: "
     ]
    }
   ],
   "source": [
    "# Run simulation for different values of k\n",
    "k_deinfluencers_ls = [0,1,2,3,4,5,6,7,8,9,10]  # Different values of k to test\n",
    "deinfluencers_list = ef.select_deinfluencers(k_deinfluencers_ls, model_fixed_influencers)\n",
    "results = ef.average_results(deinfluencers_list, model_fixed_influencers, num_runs=1, steps=2)\n",
    "\n",
    "# Plotting results\n",
    "fig, axs = plt.subplots(2, figsize=(10, 10))\n",
    "axs[0].set_title('Measured Influence against Deinfluencer selection methods')\n",
    "axs[1].set_title('Measured Deinfluence against Deinfluencer selection methods')\n",
    "\n",
    "# Create line plots\n",
    "methods = results[next(iter(results))].keys()  # Get all methods from the first key\n",
    "k_values = sorted(results.keys())  # Sort k values for plotting\n",
    "\n",
    "for method in methods:\n",
    "    influenced_nodes = [results[k][method][0] for k in k_values]\n",
    "    total_steps = [results[k][method][1] for k in k_values]\n",
    "\n",
    "    axs[0].plot(k_values, influenced_nodes, label=method, marker='o')\n",
    "    axs[1].plot(k_values, total_steps, label=method, marker='o')\n",
    "\n",
    "axs[0].legend()\n",
    "axs[0].set_xlabel('Number of Deinfluencers')\n",
    "axs[0].set_ylabel('Average Number of DeInfluenced Nodes')\n",
    "\n",
    "axs[1].legend()\n",
    "axs[1].set_xlabel('Number of Deinfluencers')\n",
    "axs[1].set_ylabel('Average Number of Influenced Nodes')\n",
    "\n",
    "plt.tight_layout()\n",
    "plt.show()"
   ]
  }
 ],
 "metadata": {
  "kernelspec": {
   "display_name": "Python 3",
   "language": "python",
   "name": "python3"
  },
  "language_info": {
   "codemirror_mode": {
    "name": "ipython",
    "version": 3
   },
   "file_extension": ".py",
   "mimetype": "text/x-python",
   "name": "python",
   "nbconvert_exporter": "python",
   "pygments_lexer": "ipython3",
   "version": "3.11.4"
  }
 },
 "nbformat": 4,
 "nbformat_minor": 2
}
