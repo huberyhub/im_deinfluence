{
 "cells": [
  {
   "cell_type": "code",
   "execution_count": 1,
   "metadata": {},
   "outputs": [],
   "source": [
    "import full_model\n",
    "import fast_model\n",
    "import numpy as np\n",
    "import matplotlib.pyplot as plt\n",
    "import networkx as nx\n",
    "from joblib import Parallel, delayed"
   ]
  },
  {
   "cell_type": "markdown",
   "metadata": {},
   "source": [
    "## This note book aims to discover some properties of deinfluencers in restricted setting"
   ]
  },
  {
   "cell_type": "code",
   "execution_count": 21,
   "metadata": {},
   "outputs": [
    {
     "name": "stdout",
     "output_type": "stream",
     "text": [
      "Influencers: {1, 12}\n"
     ]
    }
   ],
   "source": [
    "# Generate the graph\n",
    "# G = nx.erdos_renyi_graph(100, 0.1, directed=True)\n",
    "# G = nx.watts_strogatz_graph(100, 4, 0.1).to_directed()\n",
    "G = nx.barabasi_albert_graph(500, 2).to_directed()\n",
    "\n",
    "# Initialize the InfluenceDeinfluenceModel\n",
    "model = fast_model.InfluenceDeinfluenceModel(G,\"fixed\")\n",
    "\n",
    "# number of influencers\n",
    "k = 5\n",
    "\n",
    "# number of steps\n",
    "steps = 1\n",
    "influencers = model.greedy_hill_climbing(k, steps)\n",
    "\n",
    "model.reset_graph()\n",
    "#model.set_initial_states()\n",
    "\n",
    "print(\"Influencers:\", influencers)"
   ]
  },
  {
   "cell_type": "markdown",
   "metadata": {},
   "source": [
    "Validate that the code works as intended"
   ]
  },
  {
   "cell_type": "code",
   "execution_count": 22,
   "metadata": {},
   "outputs": [
    {
     "name": "stdout",
     "output_type": "stream",
     "text": [
      "99\n",
      "73\n",
      "27\n",
      "Node y out-neighbors: [256, 2, 3, 262, 141, 17, 151, 24, 28, 161, 163, 164, 37, 38, 40, 44, 50, 306, 59, 319, 461, 469, 87, 101, 114, 374, 121]\n",
      "Common out-neighbors: [40, 114, 3]\n",
      "yes\n"
     ]
    }
   ],
   "source": [
    "influencers = list(influencers)\n",
    "node1 = influencers[0]\n",
    "node2 = influencers[1]\n",
    "\n",
    "model.set_influencers(influencers)\n",
    "model.run_cascade(steps)\n",
    "k = model.evaluate_influence()\n",
    "print(k)\n",
    "print(G.out_degree(node1))\n",
    "print(G.out_degree(node2))\n",
    "\n",
    "node_x_out_neighbors = set(G.successors(node1))\n",
    "node_y_out_neighbors = set(G.successors(node2))\n",
    "print(\"Node y out-neighbors:\", list(node_y_out_neighbors))\n",
    "\n",
    "common_out_neighbors = node_x_out_neighbors & node_y_out_neighbors\n",
    "print(\"Common out-neighbors:\", list(common_out_neighbors))\n",
    "\n",
    "# Corrected condition\n",
    "if k - (G.out_degree(node1) + G.out_degree(node2) + 2 - len(common_out_neighbors)) == 0:\n",
    "    print(\"yes\")\n",
    "else:\n",
    "    print(\"no\")\n",
    "\n",
    "model.reset_graph()"
   ]
  }
 ],
 "metadata": {
  "kernelspec": {
   "display_name": "Python 3",
   "language": "python",
   "name": "python3"
  },
  "language_info": {
   "codemirror_mode": {
    "name": "ipython",
    "version": 3
   },
   "file_extension": ".py",
   "mimetype": "text/x-python",
   "name": "python",
   "nbconvert_exporter": "python",
   "pygments_lexer": "ipython3",
   "version": "3.11.4"
  }
 },
 "nbformat": 4,
 "nbformat_minor": 2
}
