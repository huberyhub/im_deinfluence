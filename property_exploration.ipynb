{
 "cells": [
  {
   "cell_type": "code",
   "execution_count": 40,
   "metadata": {},
   "outputs": [],
   "source": [
    "import full_model\n",
    "import fast_model_improved\n",
    "import numpy as np\n",
    "import matplotlib.pyplot as plt\n",
    "import networkx as nx\n",
    "from joblib import Parallel, delayed"
   ]
  },
  {
   "cell_type": "markdown",
   "metadata": {},
   "source": [
    "## This note book aims to discover some properties of deinfluencers in restricted setting"
   ]
  },
  {
   "cell_type": "code",
   "execution_count": 29,
   "metadata": {},
   "outputs": [
    {
     "name": "stdout",
     "output_type": "stream",
     "text": [
      "Influencers: {385, 3, 36, 5, 43}\n"
     ]
    }
   ],
   "source": [
    "# Generate the graph\n",
    "# G = nx.erdos_renyi_graph(100, 0.1, directed=True)\n",
    "# G = nx.watts_strogatz_graph(100, 4, 0.1).to_directed()\n",
    "G = nx.barabasi_albert_graph(500, 2).to_directed()\n",
    "\n",
    "# Initialize the InfluenceDeinfluenceModel\n",
    "model = fast_model_improved.InfluenceDeinfluenceModel(G,\"fixed\")\n",
    "\n",
    "# number of influencers\n",
    "k = 5\n",
    "\n",
    "# number of steps\n",
    "steps = 3\n",
    "influencers = model.greedy_hill_climbing(k, steps)\n",
    "\n",
    "model.reset_graph()\n",
    "#model.set_initial_states()\n",
    "\n",
    "print(\"Influencers:\", influencers)"
   ]
  },
  {
   "cell_type": "markdown",
   "metadata": {},
   "source": [
    "Validate that the code works as intended. Should only be used to when step = 1 and number of influencer = 2."
   ]
  },
  {
   "cell_type": "code",
   "execution_count": 26,
   "metadata": {},
   "outputs": [
    {
     "name": "stdout",
     "output_type": "stream",
     "text": [
      "500\n",
      "46\n",
      "7\n",
      "Node y out-neighbors: [320, 66, 419, 459, 461, 143, 383]\n",
      "Common out-neighbors: []\n",
      "no\n"
     ]
    }
   ],
   "source": [
    "influencers = list(influencers)\n",
    "node1 = influencers[0]\n",
    "node2 = influencers[1]\n",
    "\n",
    "model.set_influencers(influencers)\n",
    "model.run_cascade(steps)\n",
    "k = model.evaluate_influence()\n",
    "print(k)\n",
    "print(G.out_degree(node1))\n",
    "print(G.out_degree(node2))\n",
    "\n",
    "node_x_out_neighbors = set(G.successors(node1))\n",
    "node_y_out_neighbors = set(G.successors(node2))\n",
    "print(\"Node y out-neighbors:\", list(node_y_out_neighbors))\n",
    "\n",
    "common_out_neighbors = node_x_out_neighbors & node_y_out_neighbors\n",
    "print(\"Common out-neighbors:\", list(common_out_neighbors))\n",
    "\n",
    "# Corrected condition\n",
    "if k - (G.out_degree(node1) + G.out_degree(node2) + 2 - len(common_out_neighbors)) == 0:\n",
    "    print(\"yes\")\n",
    "else:\n",
    "    print(\"no\")\n",
    "\n",
    "model.reset_graph()"
   ]
  },
  {
   "cell_type": "markdown",
   "metadata": {},
   "source": [
    "# Examine how the change in constant c influence final inf/deinf"
   ]
  },
  {
   "cell_type": "code",
   "execution_count": 46,
   "metadata": {},
   "outputs": [
    {
     "name": "stderr",
     "output_type": "stream",
     "text": [
      "0.00s - Debugger warning: It seems that frozen modules are being used, which may\n",
      "0.00s - make the debugger miss breakpoints. Please pass -Xfrozen_modules=off\n",
      "0.00s - to python to disable frozen modules.\n",
      "0.00s - Note: Debugging will proceed. Set PYDEVD_DISABLE_FILE_VALIDATION=1 to disable this validation.\n",
      "0.00s - Debugger warning: It seems that frozen modules are being used, which may\n",
      "0.00s - make the debugger miss breakpoints. Please pass -Xfrozen_modules=off\n",
      "0.00s - to python to disable frozen modules.\n",
      "0.00s - Note: Debugging will proceed. Set PYDEVD_DISABLE_FILE_VALIDATION=1 to disable this validation.\n",
      "0.00s - Debugger warning: It seems that frozen modules are being used, which may\n",
      "0.00s - make the debugger miss breakpoints. Please pass -Xfrozen_modules=off\n",
      "0.00s - to python to disable frozen modules.\n",
      "0.00s - Note: Debugging will proceed. Set PYDEVD_DISABLE_FILE_VALIDATION=1 to disable this validation.\n",
      "0.00s - Debugger warning: It seems that frozen modules are being used, which may\n",
      "0.00s - make the debugger miss breakpoints. Please pass -Xfrozen_modules=off\n",
      "0.00s - to python to disable frozen modules.\n",
      "0.00s - Note: Debugging will proceed. Set PYDEVD_DISABLE_FILE_VALIDATION=1 to disable this validation.\n",
      "0.00s - Debugger warning: It seems that frozen modules are being used, which may\n",
      "0.00s - make the debugger miss breakpoints. Please pass -Xfrozen_modules=off\n",
      "0.00s - to python to disable frozen modules.\n",
      "0.00s - Note: Debugging will proceed. Set PYDEVD_DISABLE_FILE_VALIDATION=1 to disable this validation.\n",
      "0.00s - Debugger warning: It seems that frozen modules are being used, which may\n",
      "0.00s - make the debugger miss breakpoints. Please pass -Xfrozen_modules=off\n",
      "0.00s - to python to disable frozen modules.\n",
      "0.00s - Note: Debugging will proceed. Set PYDEVD_DISABLE_FILE_VALIDATION=1 to disable this validation.\n",
      "0.00s - Debugger warning: It seems that frozen modules are being used, which may\n",
      "0.00s - make the debugger miss breakpoints. Please pass -Xfrozen_modules=off\n",
      "0.00s - to python to disable frozen modules.\n",
      "0.00s - Note: Debugging will proceed. Set PYDEVD_DISABLE_FILE_VALIDATION=1 to disable this validation.\n",
      "0.00s - Debugger warning: It seems that frozen modules are being used, which may\n",
      "0.00s - make the debugger miss breakpoints. Please pass -Xfrozen_modules=off\n",
      "0.00s - to python to disable frozen modules.\n",
      "0.00s - Note: Debugging will proceed. Set PYDEVD_DISABLE_FILE_VALIDATION=1 to disable this validation.\n"
     ]
    },
    {
     "name": "stdout",
     "output_type": "stream",
     "text": [
      "Influencers: {3, 293, 6, 105, 111, 150, 123, 28, 126, 31}\n"
     ]
    }
   ],
   "source": [
    "# Generate the graph\n",
    "# G = nx.erdos_renyi_graph(100, 0.1, directed=True)\n",
    "# G = nx.watts_strogatz_graph(100, 4, 0.1).to_directed()\n",
    "G = nx.barabasi_albert_graph(300, 3).to_directed()\n",
    "\n",
    "# Initialize the InfluenceDeinfluenceModel\n",
    "model = fast_model_improved.InfluenceDeinfluenceModel(G,\"fixed\")\n",
    "\n",
    "# number of influencers\n",
    "k = 10\n",
    "\n",
    "# number of steps\n",
    "steps = 4\n",
    "influencers = model.greedy_hill_climbing(k, steps)\n",
    "\n",
    "\n",
    "model.reset_graph()\n",
    "#model.set_initial_states()\n",
    "\n",
    "print(\"Influencers:\", influencers)"
   ]
  },
  {
   "cell_type": "code",
   "execution_count": 45,
   "metadata": {},
   "outputs": [
    {
     "name": "stdout",
     "output_type": "stream",
     "text": [
      "Selected influencers: {195, 4, 26, 11, 209, 115, 244, 246, 218, 63}\n",
      "Selected deinfluencers: {35, 105, 243, 180, 85}\n",
      "Initial run - Influence: 2 Deinfluence: 297\n",
      "_____\n",
      "For c = 0.1 - Influence: 273 Deinfluence: 25\n",
      "For c = 0.2 - Influence: 160 Deinfluence: 135\n",
      "For c = 0.3 - Influence: 123 Deinfluence: 172\n",
      "For c = 0.4 - Influence: 100 Deinfluence: 198\n",
      "For c = 0.5 - Influence: 54 Deinfluence: 240\n",
      "For c = 0.6 - Influence: 17 Deinfluence: 278\n",
      "For c = 0.7 - Influence: 8 Deinfluence: 288\n",
      "For c = 0.8 - Influence: 15 Deinfluence: 280\n",
      "For c = 0.9 - Influence: 5 Deinfluence: 295\n",
      "For c = 1 - Influence: 3 Deinfluence: 296\n",
      "For c = 1.1 - Influence: 4 Deinfluence: 293\n",
      "For c = 1.2 - Influence: 6 Deinfluence: 294\n",
      "For c = 1.3 - Influence: 1 Deinfluence: 299\n",
      "For c = 1.4 - Influence: 1 Deinfluence: 299\n",
      "For c = 1.5 - Influence: 0 Deinfluence: 300\n",
      "For c = 1.6 - Influence: 1 Deinfluence: 299\n",
      "For c = 1.7 - Influence: 1 Deinfluence: 299\n",
      "For c = 1.8 - Influence: 0 Deinfluence: 298\n",
      "For c = 1.9 - Influence: 0 Deinfluence: 299\n",
      "For c = 2 - Influence: 1 Deinfluence: 299\n"
     ]
    }
   ],
   "source": [
    "steps = 5\n",
    "\n",
    "ls = [0.1,0.2,0.3,0.4,0.5,0.6,0.7,0.8,0.9,1,1.1,1.2,1.3,1.4,1.5,1.6,1.7,1.8,1.9,2]    \n",
    "\n",
    "G = nx.barabasi_albert_graph(300, 3).to_directed()\n",
    "model = fast_model_improved.InfluenceDeinfluenceModel(G, 'dominate', c=1)\n",
    "model.selected_influencers = model.random_influencers(10)\n",
    "model.selected_deinfluencers = model.random_deinfluencers(5)\n",
    "\n",
    "print(\"Selected influencers:\", model.selected_influencers)\n",
    "print(\"Selected deinfluencers:\", model.selected_deinfluencers)\n",
    "\n",
    "model.set_influencers(model.selected_influencers)\n",
    "model.set_deinfluencers(model.selected_deinfluencers)\n",
    "\n",
    "model.run_cascade(steps)\n",
    "\n",
    "k = model.evaluate_influence()\n",
    "j = model.evaluate_deinfluence()\n",
    "print(\"Initial run - Influence:\", k, \"Deinfluence:\", j)\n",
    "print(\"_____\")\n",
    "\n",
    "\n",
    "for i in range(len(ls)):\n",
    "    model_f = fast_model_improved.InfluenceDeinfluenceModel(G, 'dominate', c=ls[i])\n",
    "    model_f.reset_graph()\n",
    "    model_f.set_influencers(model.selected_influencers)\n",
    "    model_f.set_deinfluencers(model.selected_deinfluencers)\n",
    "\n",
    "    model_f.run_cascade(steps)\n",
    "    k = model_f.evaluate_influence()\n",
    "    j = model_f.evaluate_deinfluence()\n",
    "    print(\"For c =\", ls[i], \"- Influence:\", k, \"Deinfluence:\", j)"
   ]
  }
 ],
 "metadata": {
  "kernelspec": {
   "display_name": "Python 3",
   "language": "python",
   "name": "python3"
  },
  "language_info": {
   "codemirror_mode": {
    "name": "ipython",
    "version": 3
   },
   "file_extension": ".py",
   "mimetype": "text/x-python",
   "name": "python",
   "nbconvert_exporter": "python",
   "pygments_lexer": "ipython3",
   "version": "3.11.4"
  }
 },
 "nbformat": 4,
 "nbformat_minor": 2
}
