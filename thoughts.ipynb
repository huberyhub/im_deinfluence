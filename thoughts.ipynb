{
 "cells": [
  {
   "cell_type": "markdown",
   "metadata": {},
   "source": [
    "# Is a bipartite model possible? \n",
    " "
   ]
  },
  {
   "cell_type": "code",
   "execution_count": null,
   "metadata": {},
   "outputs": [],
   "source": []
  },
  {
   "cell_type": "markdown",
   "metadata": {},
   "source": [
    "# Can we add that there is the possibility that influenced and autometically turned to deinfluced without spreading\n",
    "\n",
    "We can see how that goes\n",
    "\n",
    "It's like how you dislike a thing after perchasing it."
   ]
  },
  {
   "cell_type": "markdown",
   "metadata": {},
   "source": [
    "the result of influence spreading can tell us something about the initial structure of influencers. For example, if the inital deinflunecers are highly strucutred, then using nodes based on centralities might be very/not as effective if the initial set of nodes are not as influencial. But this also depends on what the inital network looks like. I should carry out "
   ]
  },
  {
   "cell_type": "markdown",
   "metadata": {},
   "source": [
    "Two questions we can ask:\n",
    "1. when the intial influencers is organized\n",
    "2. when the inital influencers is organic or not organized"
   ]
  }
 ],
 "metadata": {
  "language_info": {
   "name": "python"
  }
 },
 "nbformat": 4,
 "nbformat_minor": 2
}
